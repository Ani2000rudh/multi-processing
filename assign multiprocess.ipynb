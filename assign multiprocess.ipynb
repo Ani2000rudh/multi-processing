{
 "cells": [
  {
   "cell_type": "code",
   "execution_count": null,
   "id": "1e179400-2cd6-47a6-a77e-3208d299e8a1",
   "metadata": {},
   "outputs": [],
   "source": [
    "#Q1. What is multiprocessing in python? Why is it useful?\n",
    "\n",
    "\n",
    "it is the process if executon of  different programmes simultaneously by using parallel processors to reduce the time of execution,data proc essin"
   ]
  },
  {
   "cell_type": "code",
   "execution_count": 16,
   "id": "22cc1ee0-8fac-4298-b90a-895c017798e6",
   "metadata": {},
   "outputs": [
    {
     "data": {
      "text/plain": [
       "\"multiprocessing is executing different programm at a time . in 'isolated' manner.it is more complex then multi threading \\nwhere as multi threading is execution of different instances of same programme simultaneously through threads . error in this case may occur more frequently it is not 'isolated''  \""
      ]
     },
     "execution_count": 16,
     "metadata": {},
     "output_type": "execute_result"
    }
   ],
   "source": [
    "#Q2. What are the differences between multiprocessing and multithreading?\n",
    "\n",
    "\n",
    "'''multiprocessing is executing different programm at a time . in 'isolated' manner.it is more complex then multi threading \n",
    "where as multi threading is execution of different instances of same programme simultaneously through threads . error in this case may occur more frequently it is not 'isolated''  '''"
   ]
  },
  {
   "cell_type": "code",
   "execution_count": 15,
   "id": "3ad47177-de2b-4321-9bb6-a15fe5966d1f",
   "metadata": {},
   "outputs": [
    {
     "name": "stdout",
     "output_type": "stream",
     "text": [
      "this is my main prod\n",
      "this is my multiprocessing prog\n"
     ]
    }
   ],
   "source": [
    "#Q3. Write a python code to create a process using the multiprocessing module.\n",
    "\n",
    "\n",
    "import multiprocessing\n",
    "def test():\n",
    "    print(\"this is my multiprocessing prog\")\n",
    "\n",
    "if __name__ == \"__main__\":\n",
    "    m = multiprocessing.Process(target=test) #creates child prog\n",
    "    print(\"this is my main prod\")\n",
    "    m.start()\n",
    "    m.join()"
   ]
  },
  {
   "cell_type": "code",
   "execution_count": 11,
   "id": "eeeda683-0d6d-4e7e-b036-035966e81332",
   "metadata": {},
   "outputs": [
    {
     "data": {
      "text/plain": [
       "'multiprocessing pool takes a pool of data( bunch of data) and distributes it with the defined function to specified no of processes \\nmultiprocessing.pool(processes=4) distributes the data among 4 processors'"
      ]
     },
     "execution_count": 11,
     "metadata": {},
     "output_type": "execute_result"
    }
   ],
   "source": [
    "#Q4. What is a multiprocessing pool in python? Why is it used?\n",
    "\n",
    "\n",
    "\"\"\"multiprocessing pool takes a pool of data( bunch of data) and distributes it with the defined function to specified no of processes \n",
    "multiprocessing.pool(processes=4) distributes the data among 4 processors\"\"\""
   ]
  },
  {
   "cell_type": "code",
   "execution_count": 12,
   "id": "81dce7b3-2889-41b8-8549-d49325aa7af9",
   "metadata": {},
   "outputs": [
    {
     "data": {
      "text/plain": [
       "'to create poolof worker processes.\\n1.import multiprocessing\\n2 define parent fun to perform \\n3 define   with multiprocessing.Pool(processes=n) n= no of processor\\n4 map the function with values in list\\n5 get the output'"
      ]
     },
     "execution_count": 12,
     "metadata": {},
     "output_type": "execute_result"
    }
   ],
   "source": [
    "#Q5. How can we create a pool of worker processes in python using the multiprocessing module?\n",
    "\n",
    "\n",
    "'''to create poolof worker processes.\n",
    "1.import multiprocessing\n",
    "2 define parent fun to perform \n",
    "3 define   with multiprocessing.Pool(processes=n) n= no of processor\n",
    "4 map the function with values in list\n",
    "5 get the output'''"
   ]
  },
  {
   "cell_type": "code",
   "execution_count": 13,
   "id": "3ed36456-7f8b-4d12-9e9a-a31f26fe691a",
   "metadata": {},
   "outputs": [
    {
     "name": "stdout",
     "output_type": "stream",
     "text": [
      "[1, 2, 3, 4, 4, 5, 6, 7]\n"
     ]
    }
   ],
   "source": [
    "#Q6. Write a python program to create 4 processes, each process should print a different number using the\n",
    "#multiprocessing module in python.\n",
    "\n",
    "\n",
    "import multiprocessing\n",
    "\n",
    "def test(n):\n",
    "    return n\n",
    "if __name__ == '__main__':\n",
    "    with multiprocessing.Pool(processes=4) as pool: # .Pool (caps)\n",
    "        out=pool.map(test,[1,2,3,4,4,5,6,7])\n",
    "        print(out)\n",
    "    "
   ]
  },
  {
   "cell_type": "code",
   "execution_count": null,
   "id": "7f441c6c-37b4-4188-8dec-60d74fad8de0",
   "metadata": {},
   "outputs": [],
   "source": []
  }
 ],
 "metadata": {
  "kernelspec": {
   "display_name": "Python 3 (ipykernel)",
   "language": "python",
   "name": "python3"
  },
  "language_info": {
   "codemirror_mode": {
    "name": "ipython",
    "version": 3
   },
   "file_extension": ".py",
   "mimetype": "text/x-python",
   "name": "python",
   "nbconvert_exporter": "python",
   "pygments_lexer": "ipython3",
   "version": "3.10.8"
  }
 },
 "nbformat": 4,
 "nbformat_minor": 5
}
